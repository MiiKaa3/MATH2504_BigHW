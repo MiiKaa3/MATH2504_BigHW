{
 "cells": [
  {
   "cell_type": "markdown",
   "id": "6de1d6c9",
   "metadata": {},
   "source": [
    "# Question 4: Binary, Hex, and Decimal\n",
    "\n",
    "### Lead: Michael Kasumagic\n",
    "### Reviewer: Atako Nakamura"
   ]
  },
  {
   "cell_type": "markdown",
   "id": "ad89e885",
   "metadata": {},
   "source": [
    "## 4(a) Explain these functions"
   ]
  },
  {
   "cell_type": "code",
   "execution_count": 2,
   "id": "a21230b3",
   "metadata": {},
   "outputs": [
    {
     "name": "stdout",
     "output_type": "stream",
     "text": [
      "random_binary_string() = \"001110111010\"\n",
      "random_hex_string() = \"409\"\n"
     ]
    }
   ],
   "source": [
    "using Random\n",
    "Random.seed!(1)\n",
    "\n",
    "random_binary_string(n = 12) = *([rand(['0','1']) for _ in 1:n]...)\n",
    "random_hex_string(n=3) = *([rand(union('0':'9','A':'F')) for _ in 1:n]...);\n",
    "\n",
    "@show random_binary_string()\n",
    "@show random_hex_string();"
   ]
  },
  {
   "cell_type": "markdown",
   "id": "a379b814",
   "metadata": {},
   "source": [
    "### `random_binary_string`\n",
    "\n",
    "There is an internal list comprehension which"
   ]
  },
  {
   "cell_type": "markdown",
   "id": "31cc28e9",
   "metadata": {},
   "source": [
    "## 4(b) Parse these arrays"
   ]
  },
  {
   "cell_type": "code",
   "execution_count": null,
   "id": "e6151f9b",
   "metadata": {},
   "outputs": [],
   "source": []
  },
  {
   "cell_type": "markdown",
   "id": "5522bd89",
   "metadata": {},
   "source": []
  },
  {
   "cell_type": "markdown",
   "id": "e4973ee8",
   "metadata": {},
   "source": [
    "## 4(c) Create your own converter"
   ]
  },
  {
   "cell_type": "markdown",
   "id": "f3476715",
   "metadata": {},
   "source": []
  }
 ],
 "metadata": {
  "kernelspec": {
   "display_name": "Julia 1.11.6",
   "language": "julia",
   "name": "julia-1.11"
  },
  "language_info": {
   "file_extension": ".jl",
   "mimetype": "application/julia",
   "name": "julia",
   "version": "1.11.6"
  }
 },
 "nbformat": 4,
 "nbformat_minor": 5
}
