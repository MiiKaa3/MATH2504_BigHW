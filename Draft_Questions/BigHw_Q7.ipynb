{
 "cells": [
  {
   "cell_type": "markdown",
   "id": "d7abee53",
   "metadata": {},
   "source": [
    "# Question 7: Time to Speak to an LLM"
   ]
  },
  {
   "cell_type": "markdown",
   "id": "1df4e09b",
   "metadata": {},
   "source": [
    "## 7(a) Installing Ollama"
   ]
  },
  {
   "cell_type": "markdown",
   "id": "394b5a7f",
   "metadata": {},
   "source": [
    "I will say, I'm a little nervous! Let's see how we do, I'll document this.\n",
    "\n",
    "First of all, I use Arch BTW, so I looked through the Arch Linux package library, and found Ollama on there! So I'll run\n",
    "```\n",
    "~ >> sudo pacman -S ollama\n",
    "```\n",
    "to install it. It installed successfully. So next I'll try\n",
    "```\n",
    "~ >> ollama run phi3\n",
    "Error: ollama server not responding - could not connect to ollama server, run 'ollama serve' to start it\n",
    "```\n",
    "Weird. Going to do some research to see if this is ok/expected. People complain a lot about Ollama online haha. I'm going to try again\n",
    "```\n",
    "~ >> ollama serve\n",
    "~ >> ollama run phi3\n",
    "pulling manifest \n",
    "pulling 633fc5be925f:  64% ▕██████████████████████████████████                    ▏ 1.4 GB/2.2 GB   13 MB/s     57s\n",
    "```\n",
    "And I'm seeing it download the model, as expected! The last 0.2GB are taking exceedingly long to download...\n",
    "```\n",
    "pulling manifest \n",
    "pulling 633fc5be925f: 100% ▕██████████████████████████████████████████████████████▏ 2.2 GB                         \n",
    "pulling fa8235e5b48f: 100% ▕██████████████████████████████████████████████████████▏ 1.1 KB                         \n",
    "pulling 542b217f179c: 100% ▕██████████████████████████████████████████████████████▏  148 B                         \n",
    "pulling 8dde1baf1db0: 100% ▕██████████████████████████████████████████████████████▏   78 B                         \n",
    "pulling 23291dc44752: 100% ▕██████████████████████████████████████████████████████▏  483 B                         \n",
    "verifying sha256 digest \n",
    "writing manifest \n",
    "success \n",
    ">>> Send a message (/? for help)\n",
    "```\n",
    "Eventually, it downloaded, and I entered the REPL LLM chat environment. Now I can proceed with the task!\n",
    "```\n",
    ">>> I am wondering about the difference between programming and coding. Please explain.\n",
    "Programming is a broader concept that encompinasses several aspects of creating software, from understanding \n",
    "user requirements to designing algorithms and writing code in various languages like Java or Python. It \n",
    "involves critical thinking skills such as problem-solving, logical reasoning, planning development strategy \n",
    "(like agile methodology), debugging the errors found during execution, maintaining a consistent coding style \n",
    "throughout projects, documentation of both code and project flow using tools like Javadoc for Java programs \n",
    "etc.\n",
    "\n",
    "On the other hand, Coding is one specific part in programming where you actually write your program's source \n",
    "code based on previously established designs or algorithms. It involves writing clear, well-documented syntax \n",
    "that can be interpreted by a computer to perform tasks and solve problems as required. The focus here would \n",
    "primarily lie with understanding how different languages operate (syntax), using libraries effectively etc., \n",
    "while the broader aspects such as debugging techniques, planning strategies might not come into play often \n",
    "during this phase unless you're writing code for specific testing scenarios or optimizing a program to run \n",
    "faster which involves advanced programming knowledge.\n",
    "\n",
    "Here is an example of how these two can interact in real-world scenario: A software engineer first understands \n",
    "the user requirements and creates algorithms (programming). Then, they write down corresponding source codes \n",
    "using their chosen language(coding), test them for errors or bugs, refine as necessary through iterations, \n",
    "document everything along with writing comments to explain certain sections of code. This continuous process \n",
    "embodies both programming and coding tasks working together in a harmonized manner throughout the software \n",
    "development lifecycle.\n",
    "\n",
    "It's important to note that even though these terms are often used interchangeably, understanding their \n",
    "individual roles can help you identify where your skills might lie better or areas which need improvement for \n",
    "overall success as a programmer/coder and enhancing productivity in collaborative projects too!\n",
    "```\n",
    "Nice! Then I exited with ctrl+d, and had a go at running it again, and it worked without a hitch. Keen to move on to the next parts!"
   ]
  },
  {
   "cell_type": "markdown",
   "id": "1c9c424e",
   "metadata": {},
   "source": [
    "## 7(b) `ollama serve`"
   ]
  },
  {
   "cell_type": "markdown",
   "id": "2748fad7",
   "metadata": {},
   "source": [
    "Because of the previous situation, I was pretty familiar with the `ollama serve` command. Used it without a problem, then I split my terminal to use the `curl` command.\n",
    "```\n",
    "~ >> curl http://127.0.0.1:11434/api/chat -d '{\n",
    "  \"model\": \"phi3\",\n",
    "  \"messages\": [\n",
    "    {\n",
    "      \"role\": \"user\",\n",
    "      \"content\": \"I am wondering about the difference between programming and coding. Please explain.\"\n",
    "    }\n",
    "  ],\n",
    "  \"stream\": false}\n",
    "}'\n",
    "{\"model\":\"phi3\",\"created_at\":\"2025-08-12T13:21:45.730718459Z\",\"message\":{\"role\":\"assistant\",\"content\":\"Programming and coding are two terms that are often used interchangeably, but they do refer to different aspects of computer science. Let's explore both concepts further:\\n\\nCoding is simply writing instructions or commands in a specific programming language. These lines of code tell the computer what operations to perform based on certain conditions. Coders write scripts and programs using various languages like Python, Java, JavaScript, Ruby, etc., with syntax that computers can understand directly without any interpretation from humans.\\n\\nOn the other hand, programming refers to a broader concept which involves designing algorithms or plans for how different tasks should be carried out by computer systems - coding is just one component of this process and not necessarily required always. It also includes understanding hardware components (CPU architecture), software development methodologies like Agile Development etc., debugging code errors, testing programs to ensure that they are working as intended.\\n\\nSo in a nutshell: Coding can be seen as the actual writing aspect with syntax while programming is more of an art form which involves designing algorithms and plans for how various tasks should be carried out by computer systems - coding just being one component among these many things.\"},\"done_reason\":\"stop\",\"done\":true,\"total_duration\":27198017810,\"load_duration\":7388548964,\"prompt_eval_count\":23,\"prompt_eval_duration\":762032992,\"eval_count\":241,\"eval_duration\":19044252754}\n",
    "```\n",
    "Great success!\n",
    "\n",
    "Next,\n",
    "```\n",
    "~ >> man curl\n",
    "[lots of irrelevent stuff...]\n",
    "       -d, --data <data>\n",
    "              (HTTP  MQTT)  Send  the  specified  data in a POST request to the HTTP server, in the same way that a\n",
    "              browser does when a user has filled in an HTML form and presses the submit button.\n",
    "```\n",
    "So, in my own words, the `-d` flag says that the following data (namely the JSON `{\"model\":\"phi3\"...etc}`) should be sent to the HTTP server (the address `http:/127.0.0.1:11434/api/chat`) as a POST request. I've often used `curl` to download files from websites, but in this instance curl has sent this data to the server, and then waits for a response. The server receives that data, does what ever it wants to do with it (in this case, ships it to an LLM according to the data) and then sends back its response. `127.0.0.1` in this case is the IP address of the local host, my machines local IP address, and `11434` is the port which ollama is running from. "
   ]
  },
  {
   "cell_type": "markdown",
   "id": "c3f87625",
   "metadata": {},
   "source": [
    "## 7(c) Automating our `curl` with Julia, HTTP, and JSON"
   ]
  },
  {
   "cell_type": "markdown",
   "id": "9e459bef",
   "metadata": {},
   "source": [
    "I started by going to my Julia package manager and adding `JSON` and `HTTP`. Turns out I already had `JSON`, but `HTTP` was downloaded successfully!\n",
    "\n",
    "Most languages have something like `argv*` and `argc` to access the commandline arguments, and knowing that I wanted to make a commandline tool (CLI), I learned about Julia's convenient `ARGS` global variable. \n",
    "\n",
    "My first iteration recieved the ARGS, joined them with a space delimiter, and then echoed that message back to the user. Everything was working as expected, so I was ready to add the HTTP request.\n",
    "\n",
    "I think investigating curl's `-d` flag gave me a strong hint that I want to use `HTTP.post()`! It felt pretty cool to make that connection. I sent a POST request to the server with no body written yet, and I saw the server recieve it and send back an error 400! Progress! I learned and applied how to write `Dict`s and then convert them to JSONs using `JSON.json()`. So I'm ready to put my POST data body together: the model, the messages (which itself has a role and a message subfield) and stream set to false (copying how the command given to me structured it.)\n",
    "\n",
    "For a while, I was having an issue where the server was receiving my request, but bouncing it with error 500, invalid header. I found out that I need to tell the server how I expect my content to be returned to me, namely `\"Content-Type\" => \"application/json\"`. Once I added that to my POST request, the server was receiving my request, giving to the LLM, and sending it back to me!\n",
    "\n",
    "The last issue I needed to fix was `return response` was giving me an error when I tried to print it. That's how I found out that `HTTP.post()` returns an object, and I need to access the body of the response and convert it to a String to actually get it printing to my console.\n",
    "\n",
    "My code, and a sample usage:"
   ]
  },
  {
   "cell_type": "code",
   "execution_count": 4,
   "id": "06c4c577",
   "metadata": {},
   "outputs": [],
   "source": [
    "using HTTP\n",
    "using JSON\n",
    "\n",
    "function askPhi(msg::String)::String\n",
    "  response = HTTP.post(\n",
    "    \"http://127.0.0.1:11434/api/chat\",\n",
    "    [\"Content-Type\" => \"application/json\"],\n",
    "    JSON.json(Dict(\n",
    "      \"model\" => \"phi3\",\n",
    "      \"messages\" => [Dict(\n",
    "          \"role\" => \"user\",\n",
    "          \"content\" => \"$msg\"\n",
    "        )],\n",
    "      \"stream\" => false\n",
    "    ))\n",
    "  )\n",
    "  \n",
    "  return String(response.body)\n",
    "end\n",
    "\n",
    "#https://docs.julialang.org/en/v1/manual/faq/#man-scripting\n",
    "if abspath(PROGRAM_FILE) == @__FILE__\n",
    "  println(askPhi(join(ARGS, \" \")))\n",
    "end"
   ]
  },
  {
   "cell_type": "markdown",
   "id": "50ce64b4",
   "metadata": {},
   "source": [
    "```\n",
    "~ >> julia ./AskPhi.jl Hi Phi! How are you today? Can you explain to me how to integrate x squared between 0 and\n",
    " 1?\n",
    "{\"model\":\"phi3\",\"created_at\":\"2025-08-12T14:30:26.663732815Z\",\"message\":{\"role\":\"assistant\",\"content\":\"Hello there! I'm an AI, so I don't have feelings, but thanks for asking. Now let’s tackle your calculus question: To find the integral of \\\\(x^2\\\\) from 0 to 1, we first need to determine its indefinite integral and then apply the Fundamental Theorem of Calculus by evaluating it at the upper limit (which is x=1) and subtracting its value at the lower limit (which is x=0).\\n\\nFirstly, let’s find the antiderivative or indefinite integral of \\\\(x^2\\\\), which can be done using a power rule. The general form for this would be \\\\(\\\\frac{x^{n+1}}{n+1}\\\\), where n = 2 (since our function is x squared). So, we have:\\n\\n∫x² dx = \\\\frac{x³}{3} + C\\n\\nwhere 'C' represents the constant of integration. However, since you’re interested in a definite integral from 0 to 1, this ‘+C‘ will not be needed later on as it cancels out when subtracting these two bounds. Now we need to evaluate \\\\(\\\\frac{x³}{3}\\\\) at x=1 and x=0:\\n\\nAt x = 1, the value of our function is \\\\(\\\\frac{1^3}{3} = \\\\frac{1}{3}\\\\). At x = 0, this equals zero (as any number multiplied by zero equals zero). Therefore, we subtract these two values to find that the integral from 0 to 1 for \\\\(x^2\\\\) yields a result of \\\\(\\\\frac{1}{3}\\\\) - 0 = \\\\boxed{\\\\frac{1}{3}}.\\n\\nTo clarify further: when you have an indefinite integral (antiderivative) and want to evaluate it between two limits, the Fundamental Theorem of Calculus tells us that if F(x) is any antiderivative for f(x), then \\\\(\\\\int_{a}^{b}f(x)dx=F(b)-F(a)\\\\). In this case we used our indefinite integral as F(x) and evaluated it at x = 1 (upper bound) and subtracted its value at the lower limit, which was zero.\"},\"done_reason\":\"stop\",\"done\":true,\"total_duration\":84176461297,\"load_duration\":235218398,\"prompt_eval_count\":36,\"prompt_eval_duration\":1413813312,\"eval_count\":490,\"eval_duration\":43017804380}\n",
    "```"
   ]
  },
  {
   "cell_type": "markdown",
   "id": "fb41e151",
   "metadata": {},
   "source": [
    "## 7(d) Basically ChatGPT"
   ]
  },
  {
   "cell_type": "markdown",
   "id": "18961ec8",
   "metadata": {},
   "source": [
    "Because of how I formulated my previous question, I can import it as a package and use that functionality without duplicating my code! I actually had so much fun building this haha. My code and a sample of input/output:"
   ]
  },
  {
   "cell_type": "code",
   "execution_count": 3,
   "id": "d2c93fcb",
   "metadata": {},
   "outputs": [],
   "source": [
    "include(\"AskPhi.jl\")\n",
    "\n",
    "function main()::Integer\n",
    "  println(\"\n",
    "   █████████           █████      ███████████  █████       ███ \n",
    "  ███░░░░░███         ░░███      ░░███░░░░░███░░███       ░░░  \n",
    " ░███    ░███   █████  ░███ █████ ░███    ░███ ░███████   ████ \n",
    " ░███████████  ███░░   ░███░░███  ░██████████  ░███░░███ ░░███ \n",
    " ░███░░░░░███ ░░█████  ░██████░   ░███░░░░░░   ░███ ░███  ░███ \n",
    " ░███    ░███  ░░░░███ ░███░░███  ░███         ░███ ░███  ░███ \n",
    " █████   █████ ██████  ████ █████ █████        ████ █████ █████\n",
    "░░░░░   ░░░░░ ░░░░░░  ░░░░ ░░░░░ ░░░░░        ░░░░ ░░░░░ ░░░░░ \n",
    "\")\n",
    "  println(\"Welcome to the AskPhi REPL environment!\\nWrite a message and press ENTER to send it to the Phi3 LLM!\\nPress ENTER with no message to exit this program!\\n\")\n",
    "  \n",
    "  while true\n",
    "    print(\"AskPhi >> \")\n",
    "    input = readline()\n",
    "    if input == \"\"\n",
    "      break\n",
    "    end\n",
    "    response = JSON.parse(askPhi(input))\n",
    "    println(\"\\n$(response[\"message\"][\"content\"])\\n\")\n",
    "  end\n",
    "\n",
    "  return 0\n",
    "end\n",
    "\n",
    "if abspath(PROGRAM_FILE) == @__FILE__\n",
    "  main()\n",
    "end"
   ]
  },
  {
   "cell_type": "markdown",
   "id": "570a5890",
   "metadata": {},
   "source": [
    "```\n",
    "~ >> julia ./dev/AskPhiREPL.jl\n",
    "\n",
    "   █████████           █████      ███████████  █████       ███ \n",
    "  ███░░░░░███         ░░███      ░░███░░░░░███░░███       ░░░  \n",
    " ░███    ░███   █████  ░███ █████ ░███    ░███ ░███████   ████ \n",
    " ░███████████  ███░░   ░███░░███  ░██████████  ░███░░███ ░░███ \n",
    " ░███░░░░░███ ░░█████  ░██████░   ░███░░░░░░   ░███ ░███  ░███ \n",
    " ░███    ░███  ░░░░███ ░███░░███  ░███         ░███ ░███  ░███ \n",
    " █████   █████ ██████  ████ █████ █████        ████ █████ █████\n",
    "░░░░░   ░░░░░ ░░░░░░  ░░░░ ░░░░░ ░░░░░        ░░░░ ░░░░░ ░░░░░ \n",
    "\n",
    "Welcome to the AskPhi REPL environment!\n",
    "Write a message and press ENTER to send it to the Phi3 LLM!\n",
    "Press ENTER with no message to exit this program!\n",
    "\n",
    "AskPhi >> Hi!\n",
    "\n",
    "Hello there! How can I assist you today?\n",
    "\n",
    "AskPhi >> How many marks do you think I'll get for this question? Ball park it.\n",
    "\n",
    "As an artificial intelligence, I can provide a hypothetical range based on typical responses and the clarity of your answer to similar questions in general knowledge tests or educational settings: if your response is well-considered, accurate, concise, clear, free from plagiarism (if applicable), grammatically correct, and appropriately detailed for its level, you might score between 15% to 90%. The exact mark would depend on the specific criteria used by graders.\n",
    "\n",
    "Ball park it: I'd estimate your answer could receive a grade of B-minus if well executed or maybe even an A-minus in case there are some minor errors, but overall excellent work considering you understand and can effectively communicate complex information clearly and concisely.\n",
    "\n",
    "AskPhi >> Can you breifly explain how to prove two topologies are homeomorphic?\n",
    "\n",
    "Two topological spaces $(X, \\tau_1)$ and $(Y, \\tau_2)$ are said to be homeomorphic or topologically equivalent if there exists a continuous bijective function $f: X \\rightarrow Y$ whose inverse function $f^{-1}: Y \\rightarrow X$ is also continuous. This condition preserves the structure of spaces in terms of topology and means that both $(X, \\tau_1)$ and $(Y, \\tau extraneous information about distances or angles between points) are essentially indistinguishable topologically.\n",
    "\n",
    "If you can establish all these properties simultaneously, then $(X, \\tau_1)$ is homeomorphic to $(Y, \\tau_2)$, hence they are topologically equivalent.\n",
    "\n",
    "AskPhi >> \n",
    "~ >> \n",
    "```"
   ]
  },
  {
   "cell_type": "markdown",
   "id": "2177f31e",
   "metadata": {},
   "source": [
    "Works exactly as intended! Of course this is super barebones, and there's a lot that could be added to this (handling EOF/Ctrl+C cleaning, HTTP timeouts and errors, try/catch blocks in my askPhi function, useful error reporting, a memory/conversation state, saving conversations, expanding support for LLMs beyond Phi3... So much)  But I think this is sufficent for now!"
   ]
  }
 ],
 "metadata": {
  "kernelspec": {
   "display_name": "Julia 1.11.6",
   "language": "julia",
   "name": "julia-1.11"
  },
  "language_info": {
   "file_extension": ".jl",
   "mimetype": "application/julia",
   "name": "julia",
   "version": "1.11.6"
  }
 },
 "nbformat": 4,
 "nbformat_minor": 5
}
