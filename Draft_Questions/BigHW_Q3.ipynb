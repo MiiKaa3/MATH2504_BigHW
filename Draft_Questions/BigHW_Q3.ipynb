{
 "cells": [
  {
   "cell_type": "markdown",
   "metadata": {},
   "source": [
    "# Question 3"
   ]
  },
  {
   "cell_type": "markdown",
   "metadata": {},
   "source": [
    "The Amoretti paper investigates a type of continued function which is composed of an integer and fractional part which nests another continued fraction in its denominator. "
   ]
  },
  {
   "cell_type": "markdown",
   "metadata": {},
   "source": [
    "### 3(a) Recursion!"
   ]
  },
  {
   "cell_type": "code",
   "execution_count": 5,
   "metadata": {},
   "outputs": [
    {
     "data": {
      "text/plain": [
       "(1.0, 0.6666666666666666, 0.7)"
      ]
     },
     "metadata": {},
     "output_type": "display_data"
    }
   ],
   "source": [
    "amoretti(i=0; cut_off = 20) = i > cut_off ? 0 : i + 1 / amoretti(i+1; cut_off = cut_off)\n",
    "amoretti(cut_off = 2), amoretti(cut_off = 3), amoretti(cut_off = 4)"
   ]
  },
  {
   "cell_type": "markdown",
   "metadata": {},
   "source": [
    "The values for `cut_off = 2`, `cut_off = 3`, and `cut_off = 4` correspond to $x = a_0 + \\frac{1}{a_1}$, $x = a_0 + \\frac{1}{a_1 + \\frac{1}{a_2}}$ and $x = a_0 + \\frac{1}{a_1 + \\frac{1}{a_2 + \\frac{1}{a_3}}}$ respectively. This shows that `amoretti()` works by considering the fraction added to `cut_off - 1` (where `cut_off` refers to its initial value before the recursive step is implemented) as 0 to approximate the result. \n",
    "\n",
    "`amoretti()` works recursively with the following parts:\n",
    "1. Base case: if `i > cut_off` (where `i` in the code referrs to $a_i$), the function returns a false to terminate the recursion.\n",
    "2. Otherwise, it calls upon the function with the argument `i+1` to calculate the denominator part of the previous iteration in the following expression: `i + 1 / amoretti(i+1; cut_off = cut_off)`.\n",
    "3. After all the parts have been calculated, `amoretti()` returns the last expression evaluated: the approximated amoretti fraction."
   ]
  },
  {
   "cell_type": "markdown",
   "metadata": {},
   "source": [
    "### 3(b) Using a for loop"
   ]
  },
  {
   "cell_type": "code",
   "execution_count": 6,
   "metadata": {},
   "outputs": [
    {
     "data": {
      "text/plain": [
       "0.697774657964008"
      ]
     },
     "metadata": {},
     "output_type": "display_data"
    }
   ],
   "source": [
    "function amoretti(i=0; cut_off = 20)\n",
    "    ans = cut_off - 1 # calculating the 'last' denominator\n",
    "    for i in 1:(cut_off-1) \n",
    "        ans = (cut_off - 1 - i) + 1/ans # working backwards\n",
    "    end\n",
    "    return ans\n",
    "end\n",
    "\n",
    "amoretti()"
   ]
  },
  {
   "cell_type": "markdown",
   "metadata": {},
   "source": [
    "### 3(c) `besseli()`"
   ]
  },
  {
   "cell_type": "code",
   "execution_count": 7,
   "metadata": {},
   "outputs": [
    {
     "data": {
      "text/plain": [
       "0.6977746579640081"
      ]
     },
     "metadata": {},
     "output_type": "display_data"
    }
   ],
   "source": [
    "using SpecialFunctions\n",
    "besseli(1,2)/besseli(0,2)"
   ]
  },
  {
   "cell_type": "markdown",
   "metadata": {},
   "source": [
    "The same numeric result was obtained to 15 significant figures."
   ]
  },
  {
   "cell_type": "markdown",
   "metadata": {},
   "source": [
    "### 3(d) Comparing to OEIS"
   ]
  },
  {
   "cell_type": "code",
   "execution_count": 4,
   "metadata": {},
   "outputs": [
    {
     "name": "stdout",
     "output_type": "stream",
     "text": [
      "Matching OEIS list ✔\n"
     ]
    }
   ],
   "source": [
    "setprecision(512) # globally reset precision of big() to 512 bits\n",
    "\n",
    "function amoretti(i=0; cut_off = 20) \n",
    "    ans = big(cut_off - 1) # using big()\n",
    "    for i in 1:(cut_off-1)\n",
    "        ans = (cut_off - 1 - i) + 1/ans\n",
    "    end\n",
    "    return ans\n",
    "end \n",
    "\n",
    "OEIS = [6, 9, 7, 7, 7, 4, 6, 5, 7, 9, 6, 4, 0, 0, 7, 9, 8, 2, 0, 0, 6, 7, 9, 0, 5, 9, 2, 5, 5, 1, 7, 5, 2, 5, 9, 9, 4, 8, 6, 6, 5, 8, 2, 6, 2, 9, 9, 8, 0, 2, 1, 2, 3, 2, 3, 6, 8, 6, 3, 0, 0, 8, 2, 8, 1, 6, 5, 3, 0, 8, 5, 2, 7, 6, 4, 6, 4, 1, 1, 1, 2, 9, 9, 6, 9, 6, 5, 6, 5, 4, 1, 8, 2, 6, 7, 6, 5, 6, 8, 7, 2, 3, 9, 8, 2]\n",
    "str = string(amoretti(cut_off = 44)) # saving amoretti() as a string. note: does not match OEIS list for cut_off < 44\n",
    "\n",
    "if length(str) < 110\n",
    "    println(\"amoretti was not calculated to sufficient precision\")\n",
    "else\n",
    "    str = str[3: 107] # slicing string to obtain first 105 decimal digits\n",
    "    array = parse.(Int, collect(str)) # turn str into an array of characters and converts each entry to an integer\n",
    "    \n",
    "    array == OEIS ? println(\"Matching OEIS list ✔\") : println(\"Not matching OEIS list\") # check equality\n",
    "end"
   ]
  }
 ],
 "metadata": {
  "kernelspec": {
   "display_name": "Julia 1.10.4",
   "language": "julia",
   "name": "julia-1.10"
  },
  "language_info": {
   "file_extension": ".jl",
   "mimetype": "application/julia",
   "name": "julia",
   "version": "1.10.4"
  }
 },
 "nbformat": 4,
 "nbformat_minor": 2
}
