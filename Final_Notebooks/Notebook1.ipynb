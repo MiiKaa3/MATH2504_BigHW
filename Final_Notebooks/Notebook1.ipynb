{
 "cells": [
  {
   "cell_type": "markdown",
   "id": "0af38063",
   "metadata": {},
   "source": [
    "# Notebook 1\n",
    "\n",
    "### Atako Nakamura, 49616866 (AN)\n",
    "### Michael Kasumagic, 44302669 (MK)\n",
    "\n",
    "| Question | 1  | 2  | 3  | 4  | 5 | 6 | 7 | 8 | 9 | 10 | 11 | 12 | 13 | 14 | 15 | 17 |\n",
    "|----------|----|----|----|----|---|---|---|---|---|----|----|----|----|----|----|----|\n",
    "| Lead     | AN | MK | AN | MK |   |   |   |   |   |    |    |    |    |    |    |    |\n",
    "| Reviewer | MK | AN | MK | AN |   |   |   |   |   |    |    |    |    |    |    |    |"
   ]
  },
  {
   "cell_type": "markdown",
   "id": "878d11a8",
   "metadata": {},
   "source": [
    "# Question 1\n",
    "\n",
    "### Lead: Atako Nakamura\n",
    "### Reviewer: Michael Kasumagic"
   ]
  },
  {
   "cell_type": "markdown",
   "id": "524bdfdb",
   "metadata": {},
   "source": [
    "**1a**"
   ]
  },
  {
   "cell_type": "markdown",
   "id": "e8f0a7c9",
   "metadata": {},
   "source": [
    "\n",
    "$$\n",
    "\n",
    "A_n = \n",
    "\n",
    "\\begin{pmatrix}\n",
    "    1 & \\frac{1}{2} & \\frac{1}{3} & \\frac{1}{4} & \\frac{1}{5} & \\frac{1}{6} & \\frac{1}{7}\\\\\n",
    "    0 & 1 & \\frac{1}{2} & \\frac{1}{3} & \\frac{1}{4} & \\frac{1}{5} & \\frac{1}{6}\\\\\n",
    "    \\vdots & \\ddots & 1 & \\frac{1}{2} & \\frac{1}{3} & \\frac{1}{4} & \\frac{1}{5}\\\\\n",
    "    \\vdots & \\ddots & \\ddots & 1 & \\frac{1}{2} & \\frac{1}{3} & \\frac{1}{4}\\\\\n",
    "    \\vdots & \\ddots & \\ddots & \\ddots & 1 & \\frac{1}{2} & \\frac{1}{3}\\\\\n",
    "    \\vdots & \\ddots & \\ddots & \\ddots & \\ddots & 1 & \\frac{1}{2}\\\\\n",
    "    0 & \\dots & \\dots & \\dots & \\dots & 0 & 1\\\\\n",
    "\\end{pmatrix}\n",
    "\n",
    "$$"
   ]
  },
  {
   "cell_type": "markdown",
   "id": "ff4e53b7",
   "metadata": {},
   "source": [
    "**1b**"
   ]
  },
  {
   "cell_type": "markdown",
   "id": "74f8e029",
   "metadata": {},
   "source": [
    "1. **Python** is a commonly used programming language for many areas such as web and software development, data science and artificial intelligence.\n",
    "2. **C++** is a programming language often used for game development, operating systems and high-performance computing due to its control over hardware.\n",
    "3. **Julia** is a programming language that is useful for high-performance scientific computing and numerical analysis (among more).\n",
    "4. **R** is a specialised programming language for working with data sets in fields such as statistical computing and graphics.\n",
    "5. **SQL** is a programming language used for managing relational databases."
   ]
  },
  {
   "cell_type": "markdown",
   "id": "71be847a",
   "metadata": {},
   "source": [
    "**1c**\n",
    "\n"
   ]
  },
  {
   "cell_type": "markdown",
   "id": "9b6838ec",
   "metadata": {},
   "source": [
    "<html>\n",
    "    <style>\n",
    "        img {\n",
    "            width: 50%;\n",
    "            height: 50%;\n",
    "        }\n",
    "    </style>\n",
    "    <a href=\"https://courses.smp.uq.edu.au/MATH2504/2025/assessment_html/bighw.html\">\n",
    "        <img src=\"https://images.unsplash.com/photo-1591436123200-5ccc6511c0e9?q=80&w=2070&auto=format&fit=crop&ixlib=rb-4.1.0&ixid=M3wxMjA3fDB8MHxwaG90by1wYWdlfHx8fGVufDB8fHx8fA%3D%3D\" alt=\"time\">\n",
    "    </a>\n",
    "</html>"
   ]
  },
  {
   "cell_type": "markdown",
   "id": "eea270e3",
   "metadata": {},
   "source": [
    "# Question 2: Warming up with Quadratic Equations\n",
    "\n",
    "### Lead: Michael Kasumagic\n",
    "### Reviewer: Atako Nakamura"
   ]
  },
  {
   "cell_type": "markdown",
   "id": "81847025",
   "metadata": {},
   "source": [
    "## 2(a) Experiment with syntax variations"
   ]
  },
  {
   "cell_type": "code",
   "execution_count": null,
   "id": "3b3ce050",
   "metadata": {},
   "outputs": [
    {
     "data": {
      "text/plain": [
       "2-element Vector{Float64}:\n",
       " 2.0\n",
       " 3.0"
      ]
     },
     "metadata": {},
     "output_type": "display_data"
    }
   ],
   "source": [
    "function real_roots_of_quadratic(a::Number, b::Number, c::Number)\n",
    "    a == 0 && throw(DomainError(a, \"argument must be nonzero\"))\n",
    "\n",
    "    roots::Array{Float64} = []\n",
    "    Δ = b^2 - 4a*c\n",
    "\n",
    "    if Δ < 0 \n",
    "        roots = []\n",
    "    elseif Δ == 0\n",
    "        roots = [-b/(2a)]\n",
    "    else\n",
    "        roots = (-b .+ [√Δ, -√Δ]) / (2a)\n",
    "    end\n",
    "    return roots \n",
    "end\n",
    "\n",
    "real_roots_of_quadratic(-1,5,-6)"
   ]
  },
  {
   "cell_type": "markdown",
   "id": "45cd587e",
   "metadata": {},
   "source": [
    "1. The code would still work because typing is not mandatory, however, my linter and IDE analysis tools might be a little messed up now, because the function can recieve any data as arguments instead of the numbers it expects. This could lead to unexpected or strange behaviours (like, if a, b, and c were string how would the delta varaible be caluclated? how would the roots be calculated?)\n",
    "\n",
    "2. 4ac doesn't work! Variable names can't start with a 4, so Julia is smart enough to know that 4a means 4 times some variable called a. However, 4ac is arbitrary: do i want 4 times some varaible called a times some variable called c, or do i want one multiplication of 4 and some variable called \"ac.\" When it runs, we get \"ac is not defined\" (ACTUALLY, 2 letter names are allowed, i tested this by starting the function with ac=1, and it ran just fine! The problem is it knows i want 4 times some varaible, and if ac is defined, then itll use ac. howver, we run into problems when \"a\" \"c\" and \"ac\" are all defined, however this issue is not brought up by the complier or the linter, so its up to the programmer to be smart about their naming conventions!)\n",
    "\n",
    "3. a syntax error, specifically (ParseError: unexpected '=')\n",
    "\n",
    "4. Yes, .+ [Del, -Del] worked. No, + [Del, -Del] did not work, i got a MethodError: no method matching +(::Int64, ::Vector{Float64}). It also gave me an error hint saying to use .+ for element-wise addition.\n",
    "\n",
    "5. Yes, it works fine. Julia returns the result of the most recent command by default, so return is not strictly needed.\n",
    "\n",
    "6. `real_roots_of_quadratic(0,5,-6)` returns `2-element Vector{Float64}: NaN -Inf`. This is because b^2 - 4ac = b^2 > 0 ensures we divide by 0 when we calculate the roots (.../2a=.../2(0)=.../0).\n",
    "\n",
    "7. Yes, this seems to work, in the sense that my code doesn't crash out anymore\n",
    "\n",
    "8. Yes this works. When Julia assess/executes the Boolean statement `a == 0 && return \"Error - ...\"` it intially assess `a == 0`. If this is false, the `&&` resolves to false regardless of what the right-hand operand is. Hence the right hand doesn't get executed. If `a== 0` is true, then Julia executes the right hand operand and `return \"Error - ...\"` is run, breaking us away from the function, and returning control to the parent function/Julia/OS/etc.\n",
    "\n",
    "9. Instead of returning control to the parent function/Julia/OS/etc., it crashes the program and spits out the DomainError and explanation, so that the user can debug and fix their code. DomainError basically means (in mathematical language) \"input is not an element of the function's domain\""
   ]
  },
  {
   "cell_type": "markdown",
   "id": "6d7b973a",
   "metadata": {},
   "source": [
    "## 2(b) Let's try some examples\n",
    "\n"
   ]
  },
  {
   "cell_type": "code",
   "execution_count": null,
   "id": "09ddd7d6",
   "metadata": {},
   "outputs": [
    {
     "name": "stdout",
     "output_type": "stream",
     "text": [
      "The equation x² - 5.0x + 6.0 = 0 has the real roots 3.0 and 2.0\n",
      "The equation x² + 2.0x + 3.0 = 0 has no real roots.\n",
      "The equation x² + 7.0x + 0.0 = 0 has the real roots 0.0 and -7.0\n",
      "The equation 3.0x² - 9.42477796076938x - 59.21762640653615 = 0 has the real roots 6.283185307179586 and -3.141592653589793\n",
      "The equation x² - 4.0x + 4.0 = 0 has a single (real) root 2.0\n",
      "The equation -x² - 1.0x + 1.0 = 0 has the real roots -1.618033988749895 and 0.6180339887498949\n"
     ]
    }
   ],
   "source": [
    "function print_quadratic_roots(coefficients::Vector{<:Number}, roots::Vector{<:Number})\n",
    "    print(\"The equation \\\n",
    "    $(abs(coefficients[1]) == 1 ? (coefficients[1] < 0 ? \"-\" : \"\") : coefficients[1])x² \\\n",
    "    $(coefficients[2] < 0 ? \"- \" : \"+ \")$(abs(coefficients[2]))x \\\n",
    "    $(coefficients[3] < 0 ? \"- \" : \"+ \")$(abs(coefficients[3])) = 0 \")\n",
    "    if length(roots) == 0\n",
    "        println(\"has no real roots.\")\n",
    "    elseif length(roots) == 1\n",
    "        println(\"has a single (real) root $(roots[1])\")\n",
    "    else\n",
    "        println(\"has the real roots $(roots[1]) and $(roots[2])\")\n",
    "    end\n",
    "    return Nothing\n",
    "end\n",
    "\n",
    "examples = [[1,-5,6], [1,2,3], [1,7,0], [3,-3π,-6π^2], [1,-4,4], [-1,-1,1]]\n",
    "\n",
    "for example in examples\n",
    "    roots = real_roots_of_quadratic(example[1], example[2], example[3])\n",
    "    print_quadratic_roots(example, roots)\n",
    "end"
   ]
  },
  {
   "cell_type": "markdown",
   "id": "b4d71dbc",
   "metadata": {},
   "source": [
    "1. I added 3x^2 - 3pi*x - 6pi^2 and x^2 - 4x + 4. It works as expected.\n",
    "\n",
    "2. I've added the function as requested! The `::Vector{<:Number}` type annotation tells Julia to accept inputs which are vectors of _any_ type of number (`Int`, `Float`, `BigInt`, etc.)\n",
    "\n",
    "3. Ok, i think I went a little beyond the scope of the questions, but it does achieve the desired effect of the question. Using terney logic operators, i've made it that `-1x^2 + -2x + -3` prints as `-x^2 - 2x - 3` which is significnatly pretier. I've used some newlines in the print statement to make it a little more readable."
   ]
  },
  {
   "cell_type": "markdown",
   "id": "58221d43",
   "metadata": {},
   "source": [
    "## 2(c) Creating a testing framework for our quadratic solver"
   ]
  },
  {
   "cell_type": "code",
   "execution_count": null,
   "id": "e6307f5c",
   "metadata": {},
   "outputs": [
    {
     "name": "stdout",
     "output_type": "stream",
     "text": [
      "Test passed\n",
      "Test passed\n"
     ]
    }
   ],
   "source": [
    "using Random\n",
    "\"\"\"\n",
    "This function generates `num_tests` random triples of coefficients and checks that the function `real_roots_of_quadratic()` does its job. The return value is `true` if the test passed, otherwise it is `false`.\n",
    "\"\"\"\n",
    "function test_real_roots_of_quadratic(;num_tests=10000, seed=42, coeff_min=-1000., coeff_max=1000.)\n",
    "    Random.seed!(seed)\n",
    "    test_passed = true\n",
    "    for _ in 1:num_tests\n",
    "        a, b, c = (coeff_max - coeff_min)rand(3) .+ coeff_min # Uniform values in range [-1000, 1000]\n",
    "        roots = real_roots_of_quadratic(a,b,c)\n",
    "        for x in roots\n",
    "            err = a*x^2 + b*x + c\n",
    "            test_passed = (test_passed && isapprox(err, 0.0, atol = 1e-8))\n",
    "        end\n",
    "    end\n",
    "    return test_passed\n",
    "end\n",
    "\n",
    "function test_random_roots_of_quadratic(;num_tests=10000, seed=42, root_min=-1000., root_max=1000.)\n",
    "    Random.seed!(seed)\n",
    "    test_passed = true\n",
    "    for _ in 1:num_tests\n",
    "        coes::Array{Float64} = []\n",
    "        # We will ignore the case of 0 real roots, because\n",
    "        # there is nothing to test in that specific situation\n",
    "        # Hence, lets generate an integer, 1 or 2:\n",
    "        root_count = Int(floor(2rand()+1))\n",
    "        roots = (root_max - root_min)rand(root_count) .+ (root_min)\n",
    "        sort!(roots)\n",
    "        if root_count == 2\n",
    "           coes = [1, -roots[2] - roots[1], roots[2]*roots[1]]  # a = roots[1]; b = roots[2]; (x-a)(x-b) = x² - ax - bx + ab\n",
    "        elseif root_count == 1\n",
    "            coes = [1, -2roots[1], roots[1]*roots[1]]  # a = roots[1]; (x-a)(x-a) = x² - 2ax + a²\n",
    "        end\n",
    "        calced_roots = real_roots_of_quadratic(coes[1],coes[2],coes[3])\n",
    "        sort!(calced_roots)\n",
    "        if length(roots) != length(calced_roots)\n",
    "            test_passed = false\n",
    "        else\n",
    "            for (a,b) in zip(roots, calced_roots)\n",
    "                test_passed = (test_passed && isapprox(a - b, 0.0, atol = 1e-8))\n",
    "            end\n",
    "        end \n",
    "    end\n",
    "    return test_passed\n",
    "end\n",
    "\n",
    "test_real_roots_of_quadratic() ? println(\"Test passed\") : println(\"Test failed!\")\n",
    "test_random_roots_of_quadratic() ? println(\"Test passed\") : println(\"Test failed!\")"
   ]
  },
  {
   "cell_type": "markdown",
   "id": "1bf2b4bd",
   "metadata": {},
   "source": [
    "1. `rand(3)` creates a vector of 3 uniform indenpendently and identically destributed floats, between 0 and 1. `2000rand(3)` then multiplies those 3 elements by 2000, effectively giving us numbers in the range [0, 2000]. Finally, `.- 1000.` performs an element-wise subtraction of 1000.0 (a float) on the vector, giving us the desired range [-1000, 1000]. Finally, to achieve the range [-5, 5] I would rewrite the expression as `a, b, c = 10rand(3) .- 5.`. \n",
    "\n",
    "2. i did this. Initally I had `(max - min)rand(3) .- min` and it was compling properly and passing the test, but when i investigated the numbers it was producing it was not in bounds! I eventually realised that the line should be `(max - min)rand(3) .+ min`!\n",
    "\n",
    "3. If there are no real roots, `roots == []`, so when we come to `for x in roots` nothing happens, because there is no x in roots. So, no (0) itterations (**** CHECK)\n",
    "\n",
    "4. I basically described this in 2.! If I placed `.- coeff_min` in the line where we generate the coefficents, the code would complie, run, and pass all tests, so the actually 'bug' is quite subtle. Only in investigating the code more closely was I able to confirm its exisitence.\n",
    "\n",
    "5. For `root_count` i tried to find an equivilent to Python's `random.randint()` but couldn't find anything like that in the Julia docs, so i had to generate the numbers in the range i wanted manually. my code randomly picks a root count, we skipp 0 because if the root count is 0, there are no real roots to check we're calculating correctly. Next we generate a vector with root_count number of roots in some range (the default is [-1000,1000]). Next, we calculate the coefficents. This is just classic year 8 level algebra. The calculation is dependent on root count though. Finally, we ship those calculated coefficents to the `real_roots_of_quadratic` function, and then I sort the output (that way I can be sure that the correct roots are being compared). Finally, i iterate over the roots, zipped with the calculated roots, and I check that the difference between each pair is approximately equal to 0, down to some error term. If they are, test_passed remains true, else, it is set to false. After 10,000 itterations (by default), we return `test_passed`."
   ]
  },
  {
   "cell_type": "markdown",
   "id": "fbaa2662",
   "metadata": {},
   "source": [
    "## 2(d) Expanding our quadratic solver to $\\mathbb{C}$"
   ]
  },
  {
   "cell_type": "code",
   "execution_count": null,
   "id": "ce147f45",
   "metadata": {},
   "outputs": [
    {
     "name": "stdout",
     "output_type": "stream",
     "text": [
      "roots_of_quadratic(1, 2, 3) = ComplexF64[-1.0 + 1.4142135623730951im, -1.0 - 1.4142135623730951im]\n",
      "roots_of_quadratic(-1, 2, 3) = ComplexF64[-1.0 + 0.0im, 3.0 + 0.0im]\n"
     ]
    },
    {
     "data": {
      "text/plain": [
       "2-element Vector{ComplexF64}:\n",
       " -1.0 + 0.0im\n",
       "  3.0 + 0.0im"
      ]
     },
     "metadata": {},
     "output_type": "display_data"
    }
   ],
   "source": [
    "function roots_of_quadratic(a::Number, b::Number, c::Number)\n",
    "    roots::Array{ComplexF64} = []\n",
    "    Δ = b^2 - 4a*c\n",
    "    if Δ == 0\n",
    "        roots = [-b/(2a)]\n",
    "    else\n",
    "        Δ = Δ < 0 ? Complex(Δ) : Δ\n",
    "        roots = [-b + √Δ, -b - √Δ] / (2a)\n",
    "    end\n",
    "    return roots\n",
    "end\n",
    "\n",
    "@show roots_of_quadratic(1,2,3)\n",
    "@show roots_of_quadratic(-1,2,3)"
   ]
  },
  {
   "cell_type": "markdown",
   "id": "37dffdeb",
   "metadata": {},
   "source": [
    "1. I removed the redunant case and added a ternery for the case that the quadratic has 2 roots (regardless of whether they're real or complex). In the case they are complex, the ternery dynamically converts the Delta to a complex number, and otherwise leaves it as a real number."
   ]
  },
  {
   "cell_type": "markdown",
   "id": "25f10a19",
   "metadata": {},
   "source": [
    "# Question 3\n",
    "\n",
    "### Lead: Atako Nakamura\n",
    "### Reviewer: Michael Kasumagic"
   ]
  },
  {
   "cell_type": "markdown",
   "id": "5a126c3d",
   "metadata": {},
   "source": [
    "The Amoretti paper investigates a type of continued function which is composed of an integer and fractional part which nests another continued fraction in its denominator. "
   ]
  },
  {
   "cell_type": "markdown",
   "id": "4f8ec7f3",
   "metadata": {},
   "source": [
    "**3a**: Try using the function amoretti() with cut_off = 2, cut_off = 3, and cut_off = 4. Explain what happens. Now in general, explain how this recursion works."
   ]
  },
  {
   "cell_type": "code",
   "execution_count": null,
   "id": "7cf085a9",
   "metadata": {},
   "outputs": [
    {
     "data": {
      "text/plain": [
       "(1.0, 0.6666666666666666, 0.7)"
      ]
     },
     "metadata": {},
     "output_type": "display_data"
    }
   ],
   "source": [
    "amoretti(i=0; cut_off = 20) = i > cut_off ? 0 : i + 1 / amoretti(i+1; cut_off = cut_off)\n",
    "(amoretti(cut_off = 2), amoretti(cut_off = 3), amoretti(cut_off = 4))"
   ]
  },
  {
   "cell_type": "markdown",
   "id": "474c37a3",
   "metadata": {},
   "source": [
    "The values for cut_off = 2, cut_off = 3, and cut_off = 4 using the amoretti() function correspond to $x = a_0 + \\frac{1}{a_1}$, $x = a_0 + \\frac{1}{a_1 + \\frac{1}{a_2}}$ and $x = a_0 + \\frac{1}{a_1 + \\frac{1}{a_2 + \\frac{1}{a_3}}}$ respectively. This shows that amoretti() works by considering the fraction added to (cut_off - 1) as 0 to approximate the result. \n",
    "\n",
    "The amoretti() function works recursively with the following parts:\n",
    "1. Base case: if a_i > cut_off (a_i referred to as i in the code), the function returns a false to terminate the recursion\n",
    "2. Otherwise, it calls upon the function with the argument i+1 to calculate the denominator part of the previous iteration in the following expression: i + 1 / amoretti(i+1; cut_off = cut_off)\n",
    "3. After all the parts have been calculated, amoretti returns the last expression evaluated: the approximated amoretti fraction"
   ]
  },
  {
   "cell_type": "markdown",
   "id": "9b373428",
   "metadata": {},
   "source": [
    "**3b**: Now to obtain the same value of 0.697774657964008, instead of using a recursive function call use a for loop."
   ]
  },
  {
   "cell_type": "code",
   "execution_count": null,
   "id": "ee6be26a",
   "metadata": {},
   "outputs": [
    {
     "data": {
      "text/plain": [
       "0.697774657964008"
      ]
     },
     "metadata": {},
     "output_type": "display_data"
    }
   ],
   "source": [
    "function amoretti(i=0; cut_off = 20)\n",
    "    ans = cut_off - 1 # calculating the 'last' denominator\n",
    "    for i in 1:(cut_off-1) \n",
    "        ans = (cut_off - 1 - i) + 1/ans # working backwards\n",
    "    end\n",
    "    return ans\n",
    "end\n",
    "\n",
    "amoretti()"
   ]
  },
  {
   "cell_type": "markdown",
   "id": "fa3f695b",
   "metadata": {},
   "source": [
    "**3c**: As you can see in the OEIS entry. Analytically the series can be represented as \"BesselI(1, 2)/BesselI(0, 2)\". Here BesselI is the special (mathematical function), modified Bessel function of the first kind. In Julia you can evaluate it using the SpecialFunctions package with besseli. Read the help entry for besseli. Then compute besseli(1,2)/besseli(0,2) to see you obtain the same numerical result."
   ]
  },
  {
   "cell_type": "code",
   "execution_count": null,
   "id": "8c22f4e1",
   "metadata": {},
   "outputs": [
    {
     "data": {
      "text/plain": [
       "0.6977746579640081"
      ]
     },
     "metadata": {},
     "output_type": "display_data"
    }
   ],
   "source": [
    "using SpecialFunctions\n",
    "besseli(1,2)/besseli(0,2)"
   ]
  },
  {
   "cell_type": "markdown",
   "id": "bf4049fd",
   "metadata": {},
   "source": [
    "The same numeric result was obtained to 15 significant figures."
   ]
  },
  {
   "cell_type": "markdown",
   "id": "21478471",
   "metadata": {},
   "source": [
    "**3d**: The list of 105 decimal digits in OEIS is [6, 9, 7, 7, 7, 4, 6, 5, 7, 9, 6, 4, 0, 0, 7, 9, 8, 2, 0, 0, 6, 7, 9, 0, 5, 9, 2, 5, 5, 1, 7, 5, 2, 5, 9, 9, 4, 8, 6, 6, 5, 8, 2, 6, 2, 9, 9, 8, 0, 2, 1, 2, 3, 2, 3, 6, 8, 6, 3, 0, 0, 8, 2, 8, 1, 6, 5, 3, 0, 8, 5, 2, 7, 6, 4, 6, 4, 1, 1, 1, 2, 9, 9, 6, 9, 6, 5, 6, 5, 4, 1, 8, 2, 6, 7, 6, 5, 6, 8, 7, 2, 3, 9, 8, 2]. These digits are not obtainable using standard floating point number calculations as above. However using big() you can create \"big\" floating point numbers. Use big() in the correct way to retrieve all of these digits and write code that compares your digits to the OEIS list. There are several ways to go about this."
   ]
  },
  {
   "cell_type": "code",
   "execution_count": null,
   "id": "a9fb9b7e",
   "metadata": {},
   "outputs": [
    {
     "name": "stdout",
     "output_type": "stream",
     "text": [
      "Matching OEIS list ✔\n"
     ]
    }
   ],
   "source": [
    "setprecision(512) # globally reset precision of big() to 512 bits\n",
    "\n",
    "function amoretti(i=0; cut_off = 20) \n",
    "    ans = big(cut_off - 1) # using big()\n",
    "    for i in 1:(cut_off-1)\n",
    "        ans = (cut_off - 1 - i) + 1/ans\n",
    "    end\n",
    "    return ans\n",
    "end \n",
    "\n",
    "OEIS = [6, 9, 7, 7, 7, 4, 6, 5, 7, 9, 6, 4, 0, 0, 7, 9, 8, 2, 0, 0, 6, 7, 9, 0, 5, 9, 2, 5, 5, 1, 7, 5, 2, 5, 9, 9, 4, 8, 6, 6, 5, 8, 2, 6, 2, 9, 9, 8, 0, 2, 1, 2, 3, 2, 3, 6, 8, 6, 3, 0, 0, 8, 2, 8, 1, 6, 5, 3, 0, 8, 5, 2, 7, 6, 4, 6, 4, 1, 1, 1, 2, 9, 9, 6, 9, 6, 5, 6, 5, 4, 1, 8, 2, 6, 7, 6, 5, 6, 8, 7, 2, 3, 9, 8, 2]\n",
    "str = string(amoretti(cut_off = 44)) # saving amorettii() as a string. note: does not match OEIS list for cut_off < 44\n",
    "\n",
    "if length(str) < 110\n",
    "    println(\"amoretti was not calculated to sufficient precision\")\n",
    "else\n",
    "    str = str[3: 107] # slicing string to obtain first 105 decimal digits\n",
    "    array = parse.(Int, collect(str)) # turn str into an array of characters and converts each entry to an integer\n",
    "    \n",
    "    if array == OEIS # checking if the two arrays match\n",
    "        println(\"Matching OEIS list ✔\")\n",
    "    else\n",
    "        println(\"Not matching OEIS list\")\n",
    "    end\n",
    "end"
   ]
  },
  {
   "cell_type": "markdown",
   "id": "30933eba",
   "metadata": {},
   "source": [
    "# Question 4: Binary, Hex, and Decimal\n",
    "\n",
    "### Lead: Michael Kasumagic\n",
    "### Reviewer: Atako Nakamura"
   ]
  },
  {
   "cell_type": "markdown",
   "id": "d8183315",
   "metadata": {},
   "source": [
    "## 4(a) Explain these functions"
   ]
  },
  {
   "cell_type": "code",
   "execution_count": null,
   "id": "9f56444b",
   "metadata": {},
   "outputs": [
    {
     "name": "stdout",
     "output_type": "stream",
     "text": [
      "random_binary_string() = \"001110111010\"\n",
      "random_hex_string() = \"409\"\n"
     ]
    }
   ],
   "source": [
    "using Random\n",
    "Random.seed!(1)\n",
    "\n",
    "random_binary_string(n = 12) = *([rand(['0','1']) for _ in 1:n]...)\n",
    "random_hex_string(n=3) = *([rand(union('0':'9','A':'F')) for _ in 1:n]...);\n",
    "\n",
    "@show random_binary_string()\n",
    "@show random_hex_string();"
   ]
  },
  {
   "cell_type": "markdown",
   "id": "d4b08b51",
   "metadata": {},
   "source": [
    "### `random_binary_string`\n",
    "\n",
    "There is an internal list comprehension which"
   ]
  },
  {
   "cell_type": "markdown",
   "id": "51d465d3",
   "metadata": {},
   "source": [
    "## 4(b) Parse these arrays"
   ]
  },
  {
   "cell_type": "markdown",
   "id": "84d1630f",
   "metadata": {},
   "source": []
  },
  {
   "cell_type": "markdown",
   "id": "f2c5b701",
   "metadata": {},
   "source": [
    "## 4(c) Create your own converter"
   ]
  },
  {
   "cell_type": "markdown",
   "id": "a0141fe0",
   "metadata": {},
   "source": []
  }
 ],
 "metadata": {
  "kernelspec": {
   "display_name": "Julia 1.11.6",
   "language": "julia",
   "name": "julia-1.11"
  },
  "language_info": {
   "file_extension": ".jl",
   "mimetype": "application/julia",
   "name": "julia",
   "version": "1.11.6"
  }
 },
 "nbformat": 4,
 "nbformat_minor": 5
}
