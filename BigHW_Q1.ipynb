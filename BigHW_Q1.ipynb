{
 "cells": [
  {
   "cell_type": "markdown",
   "metadata": {},
   "source": [
    "## Question 1"
   ]
  },
  {
   "cell_type": "markdown",
   "metadata": {},
   "source": [
    "**1a**"
   ]
  },
  {
   "cell_type": "markdown",
   "metadata": {},
   "source": [
    "\n",
    "$$\n",
    "\n",
    "A_n = \n",
    "\n",
    "\\begin{pmatrix}\n",
    "    1 & \\frac{1}{2} & \\frac{1}{3} & \\frac{1}{4} & \\frac{1}{5} & \\frac{1}{6} & \\frac{1}{7}\\\\\n",
    "    0 & 1 & \\frac{1}{2} & \\frac{1}{3} & \\frac{1}{4} & \\frac{1}{5} & \\frac{1}{6}\\\\\n",
    "    \\vdots & \\ddots & 1 & \\frac{1}{2} & \\frac{1}{3} & \\frac{1}{4} & \\frac{1}{5}\\\\\n",
    "    \\vdots & \\ddots & \\ddots & 1 & \\frac{1}{2} & \\frac{1}{3} & \\frac{1}{4}\\\\\n",
    "    \\vdots & \\ddots & \\ddots & \\ddots & 1 & \\frac{1}{2} & \\frac{1}{3}\\\\\n",
    "    \\vdots & \\ddots & \\ddots & \\ddots & \\ddots & 1 & \\frac{1}{2}\\\\\n",
    "    0 & \\dots & \\dots & \\dots & \\dots & 0 & 1\\\\\n",
    "\\end{pmatrix}\n",
    "\n",
    "$$"
   ]
  },
  {
   "cell_type": "markdown",
   "metadata": {},
   "source": [
    "**1b**"
   ]
  },
  {
   "cell_type": "markdown",
   "metadata": {},
   "source": [
    "1. **Python** is a commonly used programming language for many areas such as web and software development, data science and artificial intelligence.\n",
    "2. **C++** is a programming language often used for game development, operating systems and high-performance computing due to its control over hardware.\n",
    "3. **Julia** is a programming language that is useful for high-performance scientific computing and numerical analysis (among more).\n",
    "4. **R** is a specialised programming language for working with data sets in fields such as statistical computing and graphics.\n",
    "5. **SQL** is a programming language used for managing relational databases."
   ]
  },
  {
   "cell_type": "markdown",
   "metadata": {},
   "source": [
    "**1c**\n",
    "\n"
   ]
  },
  {
   "cell_type": "markdown",
   "metadata": {},
   "source": [
    "<html>\n",
    "    <style>\n",
    "        img {\n",
    "            width: 50%;\n",
    "            height: 50%;\n",
    "        }\n",
    "    </style>\n",
    "    <a href=\"https://courses.smp.uq.edu.au/MATH2504/2025/assessment_html/bighw.html\">\n",
    "        <img src=\"https://images.unsplash.com/photo-1591436123200-5ccc6511c0e9?q=80&w=2070&auto=format&fit=crop&ixlib=rb-4.1.0&ixid=M3wxMjA3fDB8MHxwaG90by1wYWdlfHx8fGVufDB8fHx8fA%3D%3D\" alt=\"time\">\n",
    "    </a>\n",
    "</html>"
   ]
  }
 ],
 "metadata": {
  "kernelspec": {
   "display_name": "Julia 1.10.4",
   "language": "julia",
   "name": "julia-1.10"
  },
  "language_info": {
   "file_extension": ".jl",
   "mimetype": "application/julia",
   "name": "julia",
   "version": "1.10.4"
  }
 },
 "nbformat": 4,
 "nbformat_minor": 2
}
